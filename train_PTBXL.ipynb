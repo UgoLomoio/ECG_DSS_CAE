{
 "cells": [
  {
   "cell_type": "code",
   "execution_count": 1,
   "metadata": {},
   "outputs": [],
   "source": [
    "import torch \n",
    "import numpy as np \n",
    "import pandas as pd \n",
    "import matplotlib.pyplot as plt \n"
   ]
  },
  {
   "cell_type": "code",
   "execution_count": 2,
   "metadata": {},
   "outputs": [],
   "source": [
    "x_train = torch.load(\"x_trainxl.pt\")\n",
    "y_train = torch.load(\"y_trainxl.pt\")"
   ]
  },
  {
   "cell_type": "code",
   "execution_count": 3,
   "metadata": {},
   "outputs": [
    {
     "data": {
      "text/plain": [
       "torch.Size([22833, 1, 15, 2000])"
      ]
     },
     "execution_count": 3,
     "metadata": {},
     "output_type": "execute_result"
    }
   ],
   "source": [
    "x_train.shape"
   ]
  },
  {
   "cell_type": "code",
   "execution_count": 4,
   "metadata": {},
   "outputs": [],
   "source": [
    "class ECGDataset():\n",
    "      \n",
    "    def __init__(self, data):\n",
    "        self.data = data\n",
    "        self.device = \"cuda:0\" if torch.cuda.is_available() else \"cpu\"\n",
    "    def __len__(self):\n",
    "        return len(self.data)\n",
    "    \n",
    "    def __getitem__(self, index):\n",
    "        sample = self.data[index]\n",
    "        return sample"
   ]
  },
  {
   "cell_type": "code",
   "execution_count": 5,
   "metadata": {},
   "outputs": [],
   "source": [
    "import collections\n",
    "import gc \n",
    "from pytorch_lightning.loggers import Logger \n",
    "from pytorch_lightning.loggers.logger import rank_zero_experiment\n",
    "from pytorch_lightning.utilities import rank_zero_only\n",
    "\n",
    "class HistoryLogger(Logger):\n",
    "    def __init__(self):\n",
    "        super().__init__()\n",
    "\n",
    "        self.history = collections.defaultdict(list) # copy not necessary here\n",
    "        self.log = collections.defaultdict(list) \n",
    "        self.loss = collections.defaultdict(list) \n",
    "        self.epoch = 1\n",
    "        self.metric_names = []\n",
    "        self.learning_rates = []  # To track learning rates\n",
    "        # The defaultdict in contrast will simply create any items that you try to access\n",
    "\n",
    "    @property\n",
    "    def name(self):\n",
    "        return \"Logger\"\n",
    "\n",
    "    @property\n",
    "    def version(self):\n",
    "        return \"1.0\"\n",
    "\n",
    "    @property\n",
    "    @rank_zero_experiment\n",
    "    def experiment(self):\n",
    "        pass\n",
    "\n",
    "    @rank_zero_only\n",
    "    def log_metrics(self, metrics, step):\n",
    "        \n",
    "        for metric_name, metric_value in metrics.items():\n",
    "            if metric_name != 'epoch':\n",
    "                if metric_name not in self.metric_names:\n",
    "                    self.metric_names.append(metric_name)\n",
    "                self.history[\"temp\"+metric_name].append(metric_value)\n",
    "            \n",
    "    def log_end_epoch(self): \n",
    "\n",
    "        for metric_name in self.metric_names:\n",
    "            epoch_metric_values = self.history[\"temp\"+metric_name]\n",
    "            mean_metric = np.mean(epoch_metric_values)\n",
    "            self.log[metric_name].append(mean_metric)\n",
    "            self.loss[self.epoch] = epoch_metric_values\n",
    "\n",
    "        #print(self.metric_names)\n",
    "        # Log the learning rate for this epoch\n",
    "        if self.learning_rates:\n",
    "            self.log['learning_rate'].append(self.learning_rates[-1])  # Append the last recorded learning rate(s)\n",
    "    \n",
    "        self.epoch += 1\n",
    "    \n",
    "    def log_learning_rate(self, optimizer):\n",
    "        \"\"\"Logs the learning rate for each parameter group in the optimizer.\"\"\"\n",
    "        lrs = [param_group['lr'] for param_group in optimizer.param_groups]\n",
    "        self.learning_rates.append(lrs)\n",
    "        \n",
    "    def log_hyperparams(self, params):\n",
    "        pass"
   ]
  },
  {
   "cell_type": "code",
   "execution_count": 14,
   "metadata": {},
   "outputs": [],
   "source": [
    "from pytorch_lightning import LightningModule\n",
    "\n",
    "class ECGADLightning(LightningModule):\n",
    "    \n",
    "    def __init__(self, model, lr):\n",
    "        super().__init__()\n",
    "        self.model = model\n",
    "        self.lr = lr\n",
    "        self.metric = torch.nn.MSELoss()\n",
    "        self.optimizer = torch.optim.Adam(self.parameters(), lr=self.lr)\n",
    "        \n",
    "    def forward(self, x):\n",
    "        return self.model(x)\n",
    "    \n",
    "    def configure_optimizers(self):\n",
    "        optimizer = self.optimizer\n",
    "        # Using a scheduler is optional but can be helpful.\n",
    "        # The scheduler reduces the LR if the validation performance hasn't improved for the last N epochs\n",
    "        scheduler = torch.optim.lr_scheduler.ReduceLROnPlateau(optimizer, mode=\"min\", factor=0.2, patience=10, min_lr=5e-5)\n",
    "        return {\"optimizer\": optimizer, \"lr_scheduler\": scheduler, \"monitor\": \"mean_loss\"}\n",
    "    \n",
    "    def training_step(self, batch, batch_idx):\n",
    "        x = batch\n",
    "        x_hat = self.model(x)\n",
    "        loss = self.metric(x, x_hat)\n",
    "        self.log_dict({\"loss\": loss}, sync_dist=True)\n",
    "        return loss\n",
    "\n",
    "    def validation_step(self, batch, batch_idx):\n",
    "        self._shared_eval(batch, batch_idx, \"val\")\n",
    "\n",
    "    def test_step(self, batch, batch_idx):\n",
    "        self._shared_eval(batch, batch_idx, \"test\")\n",
    "\n",
    "    def _shared_eval(self, batch, batch_idx, prefix):\n",
    "        x = batch\n",
    "        x_hat = self.model(x)\n",
    "        loss = self.metric(x, x_hat)\n",
    "        self.log(f\"{prefix}_loss\", loss)\n",
    "        \n",
    "    def on_train_epoch_end(self):\n",
    "        \n",
    "        self.logger.log_learning_rate(self.optimizer)\n",
    "        self.logger.log_end_epoch() \n",
    "        self.log_dict({\"mean_loss\": self.logger.log[\"loss\"][-1]}, sync_dist=True)\n",
    "        #print(self.logger.log[\"loss\"][-1])\n",
    "        #clear_output()"
   ]
  },
  {
   "cell_type": "code",
   "execution_count": 15,
   "metadata": {},
   "outputs": [],
   "source": [
    "from EcgStuffs.src.dpnet import dpnet_loader, conf\n",
    "import torch \n",
    "\n",
    "device = \"cuda:0\" if torch.cuda.is_available() else \"cpu\"\n",
    "if torch.cuda.is_available():\n",
    "    model = dpnet_loader.load() #load auto encoder model\n",
    "else:\n",
    "    model =  dpnet_loader.load_cpu()"
   ]
  },
  {
   "cell_type": "code",
   "execution_count": 16,
   "metadata": {
    "scrolled": true
   },
   "outputs": [
    {
     "data": {
      "text/plain": [
       "DPNet(\n",
       "  (encoder): Encoder(\n",
       "    (conv_0): Conv2d(1, 15, kernel_size=(7, 7), stride=(2, 2), padding=(3, 3), bias=False)\n",
       "    (activation0): Tanh()\n",
       "    (conv_1): Conv2d(15, 30, kernel_size=(5, 5), stride=(2, 2), padding=(2, 2), bias=False)\n",
       "    (activation1): Tanh()\n",
       "    (block_0): EncoderBlock(\n",
       "      (conv2d_in): Conv2d(30, 30, kernel_size=(3, 3), stride=(1, 1), padding=(1, 1), bias=False)\n",
       "      (activation_in): Tanh()\n",
       "      (batch_norm_in): BatchNorm2d(30, eps=1e-05, momentum=0.1, affine=True, track_running_stats=True)\n",
       "      (dropout_in): Dropout(p=0.2, inplace=False)\n",
       "      (conv2d_out): Conv2d(30, 45, kernel_size=(3, 3), stride=(2, 2), padding=(1, 1), bias=False)\n",
       "      (skip_con): Sequential(\n",
       "        (0): Conv2d(30, 45, kernel_size=(1, 1), stride=(2, 2), bias=False)\n",
       "        (1): BatchNorm2d(45, eps=1e-05, momentum=0.1, affine=True, track_running_stats=True)\n",
       "      )\n",
       "      (batch_norm_out): BatchNorm2d(45, eps=1e-05, momentum=0.1, affine=True, track_running_stats=True)\n",
       "      (activation_out): Tanh()\n",
       "      (dropout_out): Dropout(p=0.2, inplace=False)\n",
       "    )\n",
       "    (block_1): EncoderBlock(\n",
       "      (conv2d_in): Conv2d(45, 45, kernel_size=(3, 3), stride=(1, 1), padding=(1, 1), bias=False)\n",
       "      (activation_in): Tanh()\n",
       "      (batch_norm_in): BatchNorm2d(45, eps=1e-05, momentum=0.1, affine=True, track_running_stats=True)\n",
       "      (dropout_in): Dropout(p=0.2, inplace=False)\n",
       "      (conv2d_out): Conv2d(45, 45, kernel_size=(3, 3), stride=(1, 1), padding=(1, 1), bias=False)\n",
       "      (skip_con): Sequential()\n",
       "      (batch_norm_out): BatchNorm2d(45, eps=1e-05, momentum=0.1, affine=True, track_running_stats=True)\n",
       "      (activation_out): Tanh()\n",
       "      (dropout_out): Dropout(p=0.2, inplace=False)\n",
       "    )\n",
       "    (block_2): EncoderBlock(\n",
       "      (conv2d_in): Conv2d(45, 45, kernel_size=(3, 3), stride=(1, 1), padding=(1, 1), bias=False)\n",
       "      (activation_in): Tanh()\n",
       "      (batch_norm_in): BatchNorm2d(45, eps=1e-05, momentum=0.1, affine=True, track_running_stats=True)\n",
       "      (dropout_in): Dropout(p=0.2, inplace=False)\n",
       "      (conv2d_out): Conv2d(45, 60, kernel_size=(3, 3), stride=(2, 2), padding=(1, 1), bias=False)\n",
       "      (skip_con): Sequential(\n",
       "        (0): Conv2d(45, 60, kernel_size=(1, 1), stride=(2, 2), bias=False)\n",
       "        (1): BatchNorm2d(60, eps=1e-05, momentum=0.1, affine=True, track_running_stats=True)\n",
       "      )\n",
       "      (batch_norm_out): BatchNorm2d(60, eps=1e-05, momentum=0.1, affine=True, track_running_stats=True)\n",
       "      (activation_out): Tanh()\n",
       "      (dropout_out): Dropout(p=0.2, inplace=False)\n",
       "    )\n",
       "    (latest_convs): Sequential(\n",
       "      (0): Conv2d(60, 70, kernel_size=(1, 3), stride=(2, 2), bias=False)\n",
       "      (1): Tanh()\n",
       "      (2): Conv2d(70, 80, kernel_size=(1, 3), stride=(2, 2), bias=False)\n",
       "      (3): Tanh()\n",
       "      (4): Conv2d(80, 90, kernel_size=(1, 3), stride=(2, 2), bias=False)\n",
       "      (5): Tanh()\n",
       "      (6): Conv2d(90, 100, kernel_size=(1, 3), stride=(2, 2), bias=False)\n",
       "      (7): Tanh()\n",
       "      (8): Conv2d(100, 128, kernel_size=(1, 5), stride=(2, 2), bias=False)\n",
       "      (9): Tanh()\n",
       "    )\n",
       "    (flatten): Flatten(start_dim=1, end_dim=-1)\n",
       "  )\n",
       "  (decoder): Decoder(\n",
       "    (intial_convs): Sequential(\n",
       "      (0): ConvTranspose2d(128, 100, kernel_size=(1, 5), stride=(2, 2), output_padding=(0, 1), bias=False)\n",
       "      (1): Tanh()\n",
       "      (2): ConvTranspose2d(100, 90, kernel_size=(1, 3), stride=(2, 2), output_padding=(0, 1), bias=False)\n",
       "      (3): Tanh()\n",
       "      (4): ConvTranspose2d(90, 80, kernel_size=(1, 3), stride=(2, 2), output_padding=(0, 1), bias=False)\n",
       "      (5): Tanh()\n",
       "      (6): ConvTranspose2d(80, 70, kernel_size=(1, 3), stride=(2, 2), output_padding=(0, 1), bias=False)\n",
       "      (7): Tanh()\n",
       "      (8): ConvTranspose2d(70, 60, kernel_size=(1, 3), stride=(2, 2), bias=False)\n",
       "      (9): Tanh()\n",
       "    )\n",
       "    (block_2): DecoderBlock(\n",
       "      (conv2d_in): ConvTranspose2d(60, 60, kernel_size=(3, 3), stride=(1, 1), padding=(1, 1), bias=False)\n",
       "      (activation_in): Tanh()\n",
       "      (batch_norm_in): BatchNorm2d(60, eps=1e-05, momentum=0.1, affine=True, track_running_stats=True)\n",
       "      (dropout_in): Dropout(p=0.2, inplace=False)\n",
       "      (conv2d_out): ConvTranspose2d(60, 45, kernel_size=(3, 3), stride=(2, 2), padding=(1, 1), output_padding=(1, 1), bias=False)\n",
       "      (skip_con): Sequential(\n",
       "        (0): ConvTranspose2d(60, 45, kernel_size=(1, 1), stride=(2, 2), output_padding=(1, 1), bias=False)\n",
       "        (1): BatchNorm2d(45, eps=1e-05, momentum=0.1, affine=True, track_running_stats=True)\n",
       "      )\n",
       "      (batch_norm_out): BatchNorm2d(45, eps=1e-05, momentum=0.1, affine=True, track_running_stats=True)\n",
       "      (activation_out): Tanh()\n",
       "      (dropout_out): Dropout(p=0.2, inplace=False)\n",
       "    )\n",
       "    (block_1): DecoderBlock(\n",
       "      (conv2d_in): ConvTranspose2d(45, 45, kernel_size=(3, 3), stride=(1, 1), padding=(1, 1), bias=False)\n",
       "      (activation_in): Tanh()\n",
       "      (batch_norm_in): BatchNorm2d(45, eps=1e-05, momentum=0.1, affine=True, track_running_stats=True)\n",
       "      (dropout_in): Dropout(p=0.2, inplace=False)\n",
       "      (conv2d_out): ConvTranspose2d(45, 45, kernel_size=(3, 3), stride=(1, 1), padding=(1, 1), bias=False)\n",
       "      (skip_con): Sequential()\n",
       "      (batch_norm_out): BatchNorm2d(45, eps=1e-05, momentum=0.1, affine=True, track_running_stats=True)\n",
       "      (activation_out): Tanh()\n",
       "      (dropout_out): Dropout(p=0.2, inplace=False)\n",
       "    )\n",
       "    (block_0): DecoderBlock(\n",
       "      (conv2d_in): ConvTranspose2d(45, 45, kernel_size=(3, 3), stride=(1, 1), padding=(1, 1), bias=False)\n",
       "      (activation_in): Tanh()\n",
       "      (batch_norm_in): BatchNorm2d(45, eps=1e-05, momentum=0.1, affine=True, track_running_stats=True)\n",
       "      (dropout_in): Dropout(p=0.2, inplace=False)\n",
       "      (conv2d_out): ConvTranspose2d(45, 30, kernel_size=(3, 3), stride=(2, 2), padding=(1, 1), output_padding=(1, 1), bias=False)\n",
       "      (skip_con): Sequential(\n",
       "        (0): ConvTranspose2d(45, 30, kernel_size=(1, 1), stride=(2, 2), output_padding=(1, 1), bias=False)\n",
       "        (1): BatchNorm2d(30, eps=1e-05, momentum=0.1, affine=True, track_running_stats=True)\n",
       "      )\n",
       "      (batch_norm_out): BatchNorm2d(30, eps=1e-05, momentum=0.1, affine=True, track_running_stats=True)\n",
       "      (activation_out): Tanh()\n",
       "      (dropout_out): Dropout(p=0.2, inplace=False)\n",
       "    )\n",
       "    (conv1): ConvTranspose2d(30, 15, kernel_size=(5, 5), stride=(2, 2), padding=(2, 2), output_padding=(1, 1), bias=False)\n",
       "    (activation1): Tanh()\n",
       "    (conv0): ConvTranspose2d(15, 1, kernel_size=(7, 7), stride=(2, 2), padding=(3, 3), output_padding=(0, 1), bias=False)\n",
       "    (activation0): Tanh()\n",
       "    (output_module): OutputModule(\n",
       "      (conv0): Conv1d(15, 15, kernel_size=(5,), stride=(1,), padding=(2,), groups=15)\n",
       "      (activation0): Tanh()\n",
       "      (conv1): Conv1d(15, 15, kernel_size=(3,), stride=(1,), padding=(1,), groups=15)\n",
       "      (activation1): Tanh()\n",
       "      (conv2): Conv1d(15, 15, kernel_size=(3,), stride=(1,), padding=(1,), groups=15)\n",
       "      (activation2): Tanh()\n",
       "      (conv3): Conv1d(15, 15, kernel_size=(3,), stride=(1,), padding=(1,), groups=15)\n",
       "    )\n",
       "  )\n",
       ")"
      ]
     },
     "execution_count": 16,
     "metadata": {},
     "output_type": "execute_result"
    }
   ],
   "source": [
    "model"
   ]
  },
  {
   "cell_type": "code",
   "execution_count": 17,
   "metadata": {
    "scrolled": true
   },
   "outputs": [
    {
     "data": {
      "text/plain": [
       "DPNet(\n",
       "  (encoder): Encoder(\n",
       "    (conv_0): Conv2d(1, 15, kernel_size=(7, 7), stride=(2, 2), padding=(3, 3), bias=False)\n",
       "    (activation0): Tanh()\n",
       "    (conv_1): Conv2d(15, 30, kernel_size=(5, 5), stride=(2, 2), padding=(2, 2), bias=False)\n",
       "    (activation1): Tanh()\n",
       "    (block_0): EncoderBlock(\n",
       "      (conv2d_in): Conv2d(30, 30, kernel_size=(3, 3), stride=(1, 1), padding=(1, 1), bias=False)\n",
       "      (activation_in): Tanh()\n",
       "      (batch_norm_in): BatchNorm2d(30, eps=1e-05, momentum=0.1, affine=True, track_running_stats=True)\n",
       "      (dropout_in): Dropout(p=0.2, inplace=False)\n",
       "      (conv2d_out): Conv2d(30, 45, kernel_size=(3, 3), stride=(2, 2), padding=(1, 1), bias=False)\n",
       "      (skip_con): Sequential(\n",
       "        (0): Conv2d(30, 45, kernel_size=(1, 1), stride=(2, 2), bias=False)\n",
       "        (1): BatchNorm2d(45, eps=1e-05, momentum=0.1, affine=True, track_running_stats=True)\n",
       "      )\n",
       "      (batch_norm_out): BatchNorm2d(45, eps=1e-05, momentum=0.1, affine=True, track_running_stats=True)\n",
       "      (activation_out): Tanh()\n",
       "      (dropout_out): Dropout(p=0.2, inplace=False)\n",
       "    )\n",
       "    (block_1): EncoderBlock(\n",
       "      (conv2d_in): Conv2d(45, 45, kernel_size=(3, 3), stride=(1, 1), padding=(1, 1), bias=False)\n",
       "      (activation_in): Tanh()\n",
       "      (batch_norm_in): BatchNorm2d(45, eps=1e-05, momentum=0.1, affine=True, track_running_stats=True)\n",
       "      (dropout_in): Dropout(p=0.2, inplace=False)\n",
       "      (conv2d_out): Conv2d(45, 45, kernel_size=(3, 3), stride=(1, 1), padding=(1, 1), bias=False)\n",
       "      (skip_con): Sequential()\n",
       "      (batch_norm_out): BatchNorm2d(45, eps=1e-05, momentum=0.1, affine=True, track_running_stats=True)\n",
       "      (activation_out): Tanh()\n",
       "      (dropout_out): Dropout(p=0.2, inplace=False)\n",
       "    )\n",
       "    (block_2): EncoderBlock(\n",
       "      (conv2d_in): Conv2d(45, 45, kernel_size=(3, 3), stride=(1, 1), padding=(1, 1), bias=False)\n",
       "      (activation_in): Tanh()\n",
       "      (batch_norm_in): BatchNorm2d(45, eps=1e-05, momentum=0.1, affine=True, track_running_stats=True)\n",
       "      (dropout_in): Dropout(p=0.2, inplace=False)\n",
       "      (conv2d_out): Conv2d(45, 60, kernel_size=(3, 3), stride=(2, 2), padding=(1, 1), bias=False)\n",
       "      (skip_con): Sequential(\n",
       "        (0): Conv2d(45, 60, kernel_size=(1, 1), stride=(2, 2), bias=False)\n",
       "        (1): BatchNorm2d(60, eps=1e-05, momentum=0.1, affine=True, track_running_stats=True)\n",
       "      )\n",
       "      (batch_norm_out): BatchNorm2d(60, eps=1e-05, momentum=0.1, affine=True, track_running_stats=True)\n",
       "      (activation_out): Tanh()\n",
       "      (dropout_out): Dropout(p=0.2, inplace=False)\n",
       "    )\n",
       "    (latest_convs): Sequential(\n",
       "      (0): Conv2d(60, 70, kernel_size=(1, 3), stride=(2, 2), bias=False)\n",
       "      (1): Tanh()\n",
       "      (2): Conv2d(70, 80, kernel_size=(1, 3), stride=(2, 2), bias=False)\n",
       "      (3): Tanh()\n",
       "      (4): Conv2d(80, 90, kernel_size=(1, 3), stride=(2, 2), bias=False)\n",
       "      (5): Tanh()\n",
       "      (6): Conv2d(90, 100, kernel_size=(1, 3), stride=(2, 2), bias=False)\n",
       "      (7): Tanh()\n",
       "      (8): Conv2d(100, 128, kernel_size=(1, 5), stride=(2, 2), bias=False)\n",
       "      (9): Tanh()\n",
       "    )\n",
       "    (flatten): Flatten(start_dim=1, end_dim=-1)\n",
       "  )\n",
       "  (decoder): Decoder(\n",
       "    (intial_convs): Sequential(\n",
       "      (0): ConvTranspose2d(128, 100, kernel_size=(1, 5), stride=(2, 2), output_padding=(0, 1), bias=False)\n",
       "      (1): Tanh()\n",
       "      (2): ConvTranspose2d(100, 90, kernel_size=(1, 3), stride=(2, 2), output_padding=(0, 1), bias=False)\n",
       "      (3): Tanh()\n",
       "      (4): ConvTranspose2d(90, 80, kernel_size=(1, 3), stride=(2, 2), output_padding=(0, 1), bias=False)\n",
       "      (5): Tanh()\n",
       "      (6): ConvTranspose2d(80, 70, kernel_size=(1, 3), stride=(2, 2), output_padding=(0, 1), bias=False)\n",
       "      (7): Tanh()\n",
       "      (8): ConvTranspose2d(70, 60, kernel_size=(1, 3), stride=(2, 2), bias=False)\n",
       "      (9): Tanh()\n",
       "    )\n",
       "    (block_2): DecoderBlock(\n",
       "      (conv2d_in): ConvTranspose2d(60, 60, kernel_size=(3, 3), stride=(1, 1), padding=(1, 1), bias=False)\n",
       "      (activation_in): Tanh()\n",
       "      (batch_norm_in): BatchNorm2d(60, eps=1e-05, momentum=0.1, affine=True, track_running_stats=True)\n",
       "      (dropout_in): Dropout(p=0.2, inplace=False)\n",
       "      (conv2d_out): ConvTranspose2d(60, 45, kernel_size=(3, 3), stride=(2, 2), padding=(1, 1), output_padding=(1, 1), bias=False)\n",
       "      (skip_con): Sequential(\n",
       "        (0): ConvTranspose2d(60, 45, kernel_size=(1, 1), stride=(2, 2), output_padding=(1, 1), bias=False)\n",
       "        (1): BatchNorm2d(45, eps=1e-05, momentum=0.1, affine=True, track_running_stats=True)\n",
       "      )\n",
       "      (batch_norm_out): BatchNorm2d(45, eps=1e-05, momentum=0.1, affine=True, track_running_stats=True)\n",
       "      (activation_out): Tanh()\n",
       "      (dropout_out): Dropout(p=0.2, inplace=False)\n",
       "    )\n",
       "    (block_1): DecoderBlock(\n",
       "      (conv2d_in): ConvTranspose2d(45, 45, kernel_size=(3, 3), stride=(1, 1), padding=(1, 1), bias=False)\n",
       "      (activation_in): Tanh()\n",
       "      (batch_norm_in): BatchNorm2d(45, eps=1e-05, momentum=0.1, affine=True, track_running_stats=True)\n",
       "      (dropout_in): Dropout(p=0.2, inplace=False)\n",
       "      (conv2d_out): ConvTranspose2d(45, 45, kernel_size=(3, 3), stride=(1, 1), padding=(1, 1), bias=False)\n",
       "      (skip_con): Sequential()\n",
       "      (batch_norm_out): BatchNorm2d(45, eps=1e-05, momentum=0.1, affine=True, track_running_stats=True)\n",
       "      (activation_out): Tanh()\n",
       "      (dropout_out): Dropout(p=0.2, inplace=False)\n",
       "    )\n",
       "    (block_0): DecoderBlock(\n",
       "      (conv2d_in): ConvTranspose2d(45, 45, kernel_size=(3, 3), stride=(1, 1), padding=(1, 1), bias=False)\n",
       "      (activation_in): Tanh()\n",
       "      (batch_norm_in): BatchNorm2d(45, eps=1e-05, momentum=0.1, affine=True, track_running_stats=True)\n",
       "      (dropout_in): Dropout(p=0.2, inplace=False)\n",
       "      (conv2d_out): ConvTranspose2d(45, 30, kernel_size=(3, 3), stride=(2, 2), padding=(1, 1), output_padding=(1, 1), bias=False)\n",
       "      (skip_con): Sequential(\n",
       "        (0): ConvTranspose2d(45, 30, kernel_size=(1, 1), stride=(2, 2), output_padding=(1, 1), bias=False)\n",
       "        (1): BatchNorm2d(30, eps=1e-05, momentum=0.1, affine=True, track_running_stats=True)\n",
       "      )\n",
       "      (batch_norm_out): BatchNorm2d(30, eps=1e-05, momentum=0.1, affine=True, track_running_stats=True)\n",
       "      (activation_out): Tanh()\n",
       "      (dropout_out): Dropout(p=0.2, inplace=False)\n",
       "    )\n",
       "    (conv1): ConvTranspose2d(30, 15, kernel_size=(5, 5), stride=(2, 2), padding=(2, 2), output_padding=(1, 1), bias=False)\n",
       "    (activation1): Tanh()\n",
       "    (conv0): ConvTranspose2d(15, 1, kernel_size=(7, 7), stride=(2, 2), padding=(3, 3), output_padding=(0, 1), bias=False)\n",
       "    (activation0): Tanh()\n",
       "    (output_module): OutputModule(\n",
       "      (conv0): Conv1d(15, 15, kernel_size=(5,), stride=(1,), padding=(2,), groups=15)\n",
       "      (activation0): Tanh()\n",
       "      (conv1): Conv1d(15, 15, kernel_size=(3,), stride=(1,), padding=(1,), groups=15)\n",
       "      (activation1): Tanh()\n",
       "      (conv2): Conv1d(15, 15, kernel_size=(3,), stride=(1,), padding=(1,), groups=15)\n",
       "      (activation2): Tanh()\n",
       "      (conv3): Conv1d(15, 15, kernel_size=(3,), stride=(1,), padding=(1,), groups=15)\n",
       "    )\n",
       "  )\n",
       ")"
      ]
     },
     "execution_count": 17,
     "metadata": {},
     "output_type": "execute_result"
    }
   ],
   "source": [
    "model.train()"
   ]
  },
  {
   "cell_type": "code",
   "execution_count": 18,
   "metadata": {},
   "outputs": [],
   "source": [
    "torch.set_float32_matmul_precision('medium')"
   ]
  },
  {
   "cell_type": "code",
   "execution_count": 23,
   "metadata": {},
   "outputs": [],
   "source": [
    "from torch.utils.data import DataLoader\n",
    "\n",
    "train_dataset = ECGDataset(x_train)\n",
    "train_dataloader = DataLoader(train_dataset, batch_size = 8)#, num_workers=23)"
   ]
  },
  {
   "cell_type": "code",
   "execution_count": 24,
   "metadata": {},
   "outputs": [],
   "source": [
    "from pytorch_lightning.trainer import Trainer\n",
    "from pytorch_lightning.callbacks import ModelCheckpoint\n",
    "import os \n",
    "\n",
    "checkpoints_path = os.getcwd() + os.sep + \"checkpoints\"+ os.sep\n",
    "epochs = 1000\n",
    "logger = HistoryLogger()\n",
    "checkpoint_callback = ModelCheckpoint(\n",
    "        dirpath=checkpoints_path, # <--- specify this on the trainer itself for version control\n",
    "        filename=\"ptbxlmodel_ckpt_{epoch:02d}\",\n",
    "        every_n_epochs=100,\n",
    "        save_top_k=-1,  # <--- this is important!\n",
    ")\n",
    "lightningmodel = ECGADLightning(model, lr = 0.001)#0.00001"
   ]
  },
  {
   "cell_type": "code",
   "execution_count": 25,
   "metadata": {
    "scrolled": true
   },
   "outputs": [
    {
     "name": "stderr",
     "output_type": "stream",
     "text": [
      "Using 16bit Automatic Mixed Precision (AMP)\n",
      "GPU available: True (cuda), used: True\n",
      "TPU available: False, using: 0 TPU cores\n",
      "IPU available: False, using: 0 IPUs\n",
      "HPU available: False, using: 0 HPUs\n",
      "LOCAL_RANK: 0 - CUDA_VISIBLE_DEVICES: [0]\n",
      "\n",
      "  | Name   | Type    | Params\n",
      "-----------------------------------\n",
      "0 | model  | DPNet   | 540 K \n",
      "1 | metric | MSELoss | 0     \n",
      "-----------------------------------\n",
      "540 K     Trainable params\n",
      "0         Non-trainable params\n",
      "540 K     Total params\n",
      "2.162     Total estimated model params size (MB)\n"
     ]
    },
    {
     "data": {
      "application/vnd.jupyter.widget-view+json": {
       "model_id": "2ae931ce60fd44a68d72aa48f49c608b",
       "version_major": 2,
       "version_minor": 0
      },
      "text/plain": [
       "Training: |                                               | 0/? [00:00<?, ?it/s]"
      ]
     },
     "metadata": {},
     "output_type": "display_data"
    },
    {
     "name": "stderr",
     "output_type": "stream",
     "text": [
      "`Trainer.fit` stopped: `max_epochs=1000` reached.\n"
     ]
    }
   ],
   "source": [
    "trainer = Trainer(accelerator='gpu', precision=16, callbacks = [checkpoint_callback], max_epochs = epochs, logger= logger, log_every_n_steps = 1, default_root_dir=checkpoints_path,\n",
    "check_val_every_n_epoch=100)#100\n",
    "trainer.fit(lightningmodel, train_dataloader)"
   ]
  },
  {
   "cell_type": "code",
   "execution_count": 26,
   "metadata": {},
   "outputs": [],
   "source": [
    "torch.save(model.state_dict(), \"model_ptbxl2.pt\")"
   ]
  },
  {
   "cell_type": "code",
   "execution_count": 27,
   "metadata": {},
   "outputs": [
    {
     "data": {
      "image/png": "[encoded data removed]",
      "text/plain": [
       "<Figure size 640x480 with 1 Axes>"
      ]
     },
     "metadata": {},
     "output_type": "display_data"
    }
   ],
   "source": [
    "import matplotlib.pyplot as plt \n",
    "\n",
    "losses = logger.log[\"loss\"]\n",
    "fig = plt.Figure(figsize=(20, 10))\n",
    "plt.title(\"AE training MSE reconstruction loss\")\n",
    "epochs_plot = np.arange(0, epochs, 1)\n",
    "plt.plot(epochs_plot, losses)\n",
    "plt.xlabel(\"Epoch\")\n",
    "plt.ylabel(\"Mean MSE\")\n",
    "plt.savefig(\"loss_ptbxl.png\")"
   ]
  },
  {
   "cell_type": "code",
   "execution_count": 28,
   "metadata": {},
   "outputs": [
    {
     "data": {
      "image/png": "[encoded data removed]",
      "text/plain": [
       "<Figure size 640x480 with 1 Axes>"
      ]
     },
     "metadata": {},
     "output_type": "display_data"
    }
   ],
   "source": [
    "lrs = logger.learning_rates\n",
    "fig = plt.Figure(figsize=(20, 10))\n",
    "plt.title(\"AE training learning rates\")\n",
    "epochs_plot = np.arange(0, epochs, 1)\n",
    "plt.plot(epochs_plot, lrs)\n",
    "plt.xlabel(\"Epoch\")\n",
    "plt.ylabel(\"LR\")\n",
    "plt.savefig(\"learningrates_ptbxl.png\")"
   ]
  },
  {
   "cell_type": "code",
   "execution_count": null,
   "metadata": {},
   "outputs": [],
   "source": []
  }
 ],
 "metadata": {
  "colab": {
   "provenance": []
  },
  "kernelspec": {
   "display_name": "ecgad",
   "language": "python",
   "name": "ecgad"
  },
  "language_info": {
   "codemirror_mode": {
    "name": "ipython",
    "version": 3
   },
   "file_extension": ".py",
   "mimetype": "text/x-python",
   "name": "python",
   "nbconvert_exporter": "python",
   "pygments_lexer": "ipython3",
   "version": "3.8.19"
  }
 },
 "nbformat": 4,
 "nbformat_minor": 4
}
